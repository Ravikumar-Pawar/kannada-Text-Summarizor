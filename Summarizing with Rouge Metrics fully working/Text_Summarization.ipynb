{
 "cells": [
  {
   "cell_type": "code",
   "execution_count": 25,
   "metadata": {},
   "outputs": [
    {
     "name": "stdout",
     "output_type": "stream",
     "text": [
      "\t\t\t************* PLEASE WAIT **************\n",
      "\n",
      "total word vectors for the given article:  188240\n",
      "vector ready\n",
      "\n",
      "length of the sentences  53\n",
      "similarity length and content 53\n",
      "matrix ready\n",
      "\n",
      "wait for the graph\n",
      "\n",
      "Name: \n",
      "Type: Graph\n",
      "Number of nodes: 53\n",
      "Number of edges: 1275\n",
      "Average degree:  48.1132\n",
      "\n",
      "\n",
      "TextRank algorithm Run time : 0.085970  seconds\n",
      "\n",
      "\n",
      "How many lines You want to display the Summary?  :20\n",
      "\n",
      "\n",
      "=================this is your Summarized document=============== \n",
      "\n",
      "\n",
      "ರಿಲಾಯನ್ಸ್ ಜಿಯೋದಿಂದ ಗ್ರಾಹಕರಿಗೆ ಭರ್ಜರಿ ಹೊಸ ವರ್ಷದ ಗಿಫ್ಟ್\n",
      "ಇನ್‌ಸ್ಟಾಗ್ರಾಮ್‌ನಲ್ಲಿ ಅಪಹಾಸ್ಯ ವೀಡಿಯೊ ಹಾಕಿ ಜೈಲು ಸೇರಿದ ಯುವಕ ಜಗತ್ತಿಗೆ ಬರುತ್ತಿದ್ದಾನೆ ಮತ್ತೊಬ್ಬ ಹೊಸ ದೇವರು.. ನಿಂತಲ್ಲೇ ಸಿಗುತ್ತೆ ವರ..!\n",
      "ಏರ್​ಟೆಲ್​ ದೀಪಾವಳಿ ಧಮಾಕಾ: 90 ದಿನಗಳವರೆಗೆ ಅನಿಯಮಿತ ಕರೆ ಮತ್ತು ಉಚಿತ ಡೇಟಾ ಪಡೆಯಿರಿ..!\n",
      "ಶೀಘ್ರದಲ್ಲೇ ಭಾರತದ ಇಂಟರ್ನೆಟ್​ಗೆ ಹೊಸ ವೇಗ ನೀಡಲಿದೆ ಇಸ್ರೋ ಸಂಸ್ಥೆ\n",
      "ರೈಲು ಪ್ರಯಾಣಿಕರ ಗಮನಕ್ಕೆ: ಇನ್ಮುಂದೆ ಮೊಬೈಲ್​ನಲ್ಲೇ ಜನರಲ್ ಟಿಕೆಟ್ ಬುಕ್ ಮಾಡಿಕೊಳ್ಳಬಹುದು\n",
      "Trending ವಿಭಾಗವನ್ನೇ ಕಿತ್ತೆಸೆದ Facebook ಈ ಆರು ಆ್ಯಪ್​ಗಳು ವಾಟ್ಸ್​ಆ್ಯಪ್​, ಫೇಸ್​ಬುಕ್​ನಿಂದ ನಿಮ್ಮ ಮಾಹಿತಿ ಕದಿಯುತ್ತಿವೆ; ಅವುಗಳನ್ನು ಈಗಲೇ ಡಿಲೀಟ್​ ಮಾಡಿ\n",
      "ATM ವಂಚನೆಯಿಂದ ಪಾರಾಗಲು SBI ಬ್ಯಾಂಕ್ ನೀಡುತ್ತಿದೆ ಉಚಿತ ಡೆಬಿಟ್ ಕಾರ್ಡ್​\n",
      "ಐಡಿಯಾ ನೀಡಲಿದೆ 30 ಜಿಬಿ ಇಂಟರ್​ನೆಟ್​ಮಾರುಕಟ್ಟೆಗೆ ಅಪ್ಪಳಿಸಲಿದೆ ಮರ್ಸಿಡಸ್ ಎಸ್ ಶ್ರೇಣಿಯ ಹೊಸ ಕಾರ್\n",
      "ಕೇವಲ 9 ರೂಪಾಯಿಗಳಿಗೆ ಅನಿಯಮಿತ ಕರೆ, SMS ಕೂಡಾ ಫ್ರೀ\n",
      "ಆ್ಯಪಲ್ ಹೊಸ ಇತಿಹಾಸ – ಒಂದು ಟ್ರಿಲಿಯನ್ ಡಾಲರ್ ಮುಟ್ಟಿದ ವಿಶ್ವದ ಮೊದಲ ಕಂಪನಿ\n",
      "ಒಂದುಗೂಡಿವೆ ಜಿಯೋ ಮ್ಯೂಸಿಕ್ - ಸಾವನ್: ಕಲಾವಿದರಿಗಾಗಿ ದಕ್ಷಿಣ ಏಷ್ಯಾದಲ್ಲೇ ಅತಿದೊಡ್ಡ ವೇದಿಕೆ ಸೃಷ್ಟಿ\n",
      "ಹೂಡಿಕೆ ಮಾಡಿದರೂ ಸಿಗುತ್ತೆ ಅತ್ಯುತ್ತಮ ಬಡ್ಡಿದರ ವಾಟ್ಸ್​ಆ್ಯಪ್​ ಮೇಲೆ ನಿಗಾವಹಿಸಲಿದೆ ಪೊಲೀಸ್ ಇಲಾಖೆ..!\n",
      "5 ಸ್ಟಾರ್​ ಗಿಟ್ಟಿಸಿಕೊಂಡ ಹೊಂಡಾ CR-V: ಯಾಕೆ ಗೊತ್ತಾ..?\n",
      "ATM ನಲ್ಲಿ ಹಣ ಸಿಲುಕಿದ್ರೆ ಹಿಂಪಡೆಯುವುದು ಈಗ ಮತ್ತಷ್ಟು ಸುಲಭ\n",
      "ಸ್ಪೇನ್ ದೇಶದ ಪೋಷಕರು ತಮ್ಮ ಮಕ್ಕಳ ವಾಟ್ಸಾಪ್ ಸಂದೇಶಗಳನ್ನ ಓದಬಹುದು:ಸ್ಪ್ಯಾನಿಷ್ ಕೋರ್ಟ್ ಮಹತ್ವದ ತೀರ್ಪು\n",
      "ನಿಮ್ಮ ನೆರೆಮನೆಯವರ ಬಗ್ಗೆಯೂ ಮಾಹಿತಿ ನೀಡುತ್ತೆ ಗೂಗಲ್, ಲಾಂಚ್ ಆಯ್ತು ಈ ಆ್ಯಪ್!\n",
      "ಟ್ರಾಫಿಕ್ ಸಮಸ್ಯೆಗೆ ಪರಿಹಾರ: ಉಬರ್​ನಿಂದ ಹಾರುವ ಟ್ಯಾಕ್ಸಿ ಸೇವೆ\n",
      "ಮೋಟೊ ಒನ್​ ಪವರ್​ ಚಿತ್ರಗಳು ಲೀಕ್​, ಇಲ್ಲಿದೆ ಹೊಸ ಮೊಬೈಲ್ ಕುರಿತು​ ಮಾಹಿತಿ\n",
      "ಸೈಬರ್​​ ಕ್ರೈಮ್​​: 50 ಮಿಲಿಯನ್​​​ಗೂ ಹೆಚ್ಚು ಖಾತೆಗಳು ಹ್ಯಾಕ್​​; ಫೇಸ್ಬುಕ್​​​​​ ಸಂಸ್ಥೆಯಿಂದ ಅಧಿಕೃತ ಮಾಹಿತಿ!\n",
      "ನಿಮ್ಮ ಮೊಬೈಲ್​ ಮೂರನೇ ಮಹಡಿಯಿಂದ ಬಿದ್ದರು ಏನು ಆಗಲ್ಲ..!\n",
      "\n",
      "\n",
      "=================this is your original document=============== \n",
      "\n",
      "\n"
     ]
    },
    {
     "data": {
      "image/png": "[encoded data removed]",
      "text/plain": [
       "<Figure size 432x288 with 1 Axes>"
      ]
     },
     "metadata": {},
     "output_type": "display_data"
    }
   ],
   "source": [
    "import codecs\n",
    "from numpy import asarray, zeros\n",
    "import pandas as pd\n",
    "from os import path\n",
    "from time import time\n",
    "from nltk.tokenize import sent_tokenize,word_tokenize\n",
    "import string\n",
    "import re\n",
    "from heapq import nlargest\n",
    "import numpy as np\n",
    "from sklearn.metrics.pairwise import cosine_similarity\n",
    "import networkx as nx\n",
    "import nltk\n",
    "import nltk\n",
    "from rouge import  Rouge\n",
    "import warnings\n",
    "import json\n",
    "warnings.filterwarnings('ignore')\n",
    "\n",
    "sentences = []\n",
    "print(\"\\t\\t\\t************* PLEASE WAIT **************\\n\")\n",
    "file = open(\"test3.txt\",\"r\", encoding='utf-8')\n",
    "read=file.readlines()\n",
    "for s in read:\n",
    "    sentences.append(nltk.tokenize.sent_tokenize(s))\n",
    "sentences = [y for x in sentences for y in x] # flatten list\n",
    "clean_sentences = pd.Series(sentences).str.replace(\"[.!?\\\\-]\", \" \")\n",
    "clean_sentences = [s.lower() for s in clean_sentences]\n",
    "clean_sentences = [s.strip() for s in clean_sentences]\n",
    "\n",
    "#file_path = path.relpath(\"C:/Users/RAVIKUMAR/Desktop/SEM 8/Porject/Ravi/kannada_stopwords.txt\")\n",
    "\n",
    "file = open(\"stop_words.txt\", encoding=\"utf8\")\n",
    "stop_words=file.read()\n",
    "\n",
    "def remove_stopwords(sen):\n",
    "    sen_new = \" \".join([i for i in sen if i not in stop_words])\n",
    "    return sen_new\n",
    "# remove stopwords from the sentences\n",
    "clean_sentences = [remove_stopwords(r.split()) for r in clean_sentences]\n",
    "\n",
    "\n",
    "# creating word emmbedings\n",
    "#file_path2 = path.relpath(\"C:/Users/RAVIKUMAR/Desktop/SEM 8/Porject/wiki.kn - Copy.txt\")\n",
    "file_path2= path.relpath(\"C:/Users/RAVIKUMAR/Desktop/NLP/wiki.kn.vec\")\n",
    "word_embeddings = {}\n",
    "f = open(file_path2, encoding='utf-8')\n",
    "for line in f:\n",
    "    values =line.strip().split()\n",
    "    word = values[0]\n",
    "    coefs = asarray(values[2:], dtype='float32')\n",
    "    word_embeddings[word] = coefs\n",
    "f.close()\n",
    "print(\"total word vectors for the given article: \",len(word_embeddings))\n",
    "\n",
    "\n",
    "#sentense vectors creating\n",
    "sentence_vectors = []\n",
    "for i in clean_sentences:\n",
    "    if len(i) != 0:\n",
    "        vector = sum(word_embeddings.get(w, np.zeros((299,))) for w in i.split()) / (len(i.split()) + 0.001)\n",
    "#         print(\"this is vector for this sentence\",i,vector,\"length of the sentence\",len(vector),\"\\n\")\n",
    "#         #print([word_embeddings.get(w,np.zeros(299,)) for w in i.split()])\n",
    "#         print(\"\\n\")\n",
    "    else:\n",
    "        vector = np.zeros((299,))\n",
    "    sentence_vectors.append(vector)\n",
    "print(\"vector ready\\n\")\n",
    "\n",
    "\n",
    "  # similarity matrix\n",
    "#print(\"len of the sentense vector\",len(sentence_vectors))\n",
    "similarity_matrix = np.zeros([len(sentences), len(sentences)])\n",
    "print(\"length of the sentences \",len(sentences))\n",
    "for i in range(len(sentences)):\n",
    "    for j in range(len(sentences)):\n",
    "        if i != j:\n",
    "            similarity_matrix[i][j] = cosine_similarity(sentence_vectors[i].reshape(1, 299), sentence_vectors[j].reshape(1, 299))[0, 0]\n",
    "print(\"similarity length and content\",len(similarity_matrix))\n",
    "print(\"matrix ready\\n\")\n",
    "\n",
    "#plot\n",
    "import matplotlib.pyplot as plt\n",
    "nx_graph = nx.from_numpy_array(similarity_matrix)\n",
    "\n",
    "print(\"wait for the graph\\n\")\n",
    "print(nx.info(nx_graph))\n",
    "nx.draw(nx_graph,with_labels=True,font_weight='bold')\n",
    "plt.savefig(\"filename1.png\")\n",
    "\n",
    "t1 = time()\n",
    "scores = nx.pagerank(nx_graph)\n",
    "t2 = time()\n",
    "print(\"\\n\")\n",
    "# for i in range(len(sentences)):\n",
    "#     print(sentences[i],\"---->\",scores[i],\"\\n\",\"\\n\")\n",
    "#print(\"Rank and score of the sentence from the scores dict:\\n\", scores)\n",
    "ranked_sentences = sorted(((scores[i], s) for i, s in enumerate(sentences)), reverse=True)\n",
    "\n",
    "print(\"TextRank algorithm Run time : %f \" % (t2 - t1), \"seconds\")\n",
    "\n",
    "# Extract top  sentences as the summary\n",
    "#while(True):\n",
    "how_many = int(input(\"\\n\\nHow many lines You want to display the Summary?  :\"))\n",
    "print(\"\\n\\n=================this is your Summarized document=============== \\n\\n\")\n",
    "Summarizesummarized_data = []\n",
    "for i in range(how_many):\n",
    "    print(ranked_sentences[i][1])\n",
    "    Summarizesummarized_data.append(ranked_sentences[i][1])\n",
    "print(\"\\n\\n=================this is your original document=============== \\n\\n\")\n",
    "original = pd.DataFrame(sentences)\n",
    "reference = []\n",
    "# for i in sentences:\n",
    "#     reference.append(i)"
   ]
  },
  {
   "cell_type": "code",
   "execution_count": 26,
   "metadata": {
    "scrolled": true
   },
   "outputs": [
    {
     "name": "stdout",
     "output_type": "stream",
     "text": [
      "total_words_system\n",
      " ['ರಿಲಾಯನ್ಸ್', 'ಜಿಯೋದಿಂದ', 'ಗ್ರಾಹಕರಿಗೆ', 'ಭರ್ಜರಿ', 'ಹೊಸ', 'ವರ್ಷದ', 'ಗಿಫ್ಟ್', 'ಇನ್\\u200cಸ್ಟಾಗ್ರಾಮ್\\u200cನಲ್ಲಿ', 'ಅಪಹಾಸ್ಯ', 'ವೀಡಿಯೊ', 'ಹಾಕಿ', 'ಜೈಲು', 'ಸೇರಿದ', 'ಯುವಕ', 'ಜಗತ್ತಿಗೆ', 'ಬರುತ್ತಿದ್ದಾನೆ', 'ಮತ್ತೊಬ್ಬ', 'ಹೊಸ', 'ದೇವರು..', 'ನಿಂತಲ್ಲೇ', 'ಸಿಗುತ್ತೆ', 'ವರ..', '!', 'ಏರ್\\u200bಟೆಲ್\\u200b', 'ದೀಪಾವಳಿ', 'ಧಮಾಕಾ', ':', '90', 'ದಿನಗಳವರೆಗೆ', 'ಅನಿಯಮಿತ', 'ಕರೆ', 'ಮತ್ತು', 'ಉಚಿತ', 'ಡೇಟಾ', 'ಪಡೆಯಿರಿ..', '!', 'ಶೀಘ್ರದಲ್ಲೇ', 'ಭಾರತದ', 'ಇಂಟರ್ನೆಟ್\\u200bಗೆ', 'ಹೊಸ', 'ವೇಗ', 'ನೀಡಲಿದೆ', 'ಇಸ್ರೋ', 'ಸಂಸ್ಥೆ', 'ರೈಲು', 'ಪ್ರಯಾಣಿಕರ', 'ಗಮನಕ್ಕೆ', ':', 'ಇನ್ಮುಂದೆ', 'ಮೊಬೈಲ್\\u200bನಲ್ಲೇ', 'ಜನರಲ್', 'ಟಿಕೆಟ್', 'ಬುಕ್', 'ಮಾಡಿಕೊಳ್ಳಬಹುದು', 'Trending', 'ವಿಭಾಗವನ್ನೇ', 'ಕಿತ್ತೆಸೆದ', 'Facebook', 'ಈ', 'ಆರು', 'ಆ್ಯಪ್\\u200bಗಳು', 'ವಾಟ್ಸ್\\u200bಆ್ಯಪ್\\u200b', ',', 'ಫೇಸ್\\u200bಬುಕ್\\u200bನಿಂದ', 'ನಿಮ್ಮ', 'ಮಾಹಿತಿ', 'ಕದಿಯುತ್ತಿವೆ', ';', 'ಅವುಗಳನ್ನು', 'ಈಗಲೇ', 'ಡಿಲೀಟ್\\u200b', 'ಮಾಡಿ', 'ATM', 'ವಂಚನೆಯಿಂದ', 'ಪಾರಾಗಲು', 'SBI', 'ಬ್ಯಾಂಕ್', 'ನೀಡುತ್ತಿದೆ', 'ಉಚಿತ', 'ಡೆಬಿಟ್', 'ಕಾರ್ಡ್\\u200b', 'ಐಡಿಯಾ', 'ನೀಡಲಿದೆ', '30', 'ಜಿಬಿ', 'ಇಂಟರ್\\u200bನೆಟ್\\u200bಮಾರುಕಟ್ಟೆಗೆ', 'ಅಪ್ಪಳಿಸಲಿದೆ', 'ಮರ್ಸಿಡಸ್', 'ಎಸ್', 'ಶ್ರೇಣಿಯ', 'ಹೊಸ', 'ಕಾರ್', 'ಕೇವಲ', '9', 'ರೂಪಾಯಿಗಳಿಗೆ', 'ಅನಿಯಮಿತ', 'ಕರೆ', ',', 'SMS', 'ಕೂಡಾ', 'ಫ್ರೀ', 'ಆ್ಯಪಲ್', 'ಹೊಸ', 'ಇತಿಹಾಸ', '–', 'ಒಂದು', 'ಟ್ರಿಲಿಯನ್', 'ಡಾಲರ್', 'ಮುಟ್ಟಿದ', 'ವಿಶ್ವದ', 'ಮೊದಲ', 'ಕಂಪನಿ', 'ಒಂದುಗೂಡಿವೆ', 'ಜಿಯೋ', 'ಮ್ಯೂಸಿಕ್', '-', 'ಸಾವನ್', ':', 'ಕಲಾವಿದರಿಗಾಗಿ', 'ದಕ್ಷಿಣ', 'ಏಷ್ಯಾದಲ್ಲೇ', 'ಅತಿದೊಡ್ಡ', 'ವೇದಿಕೆ', 'ಸೃಷ್ಟಿ', 'ಹೂಡಿಕೆ', 'ಮಾಡಿದರೂ', 'ಸಿಗುತ್ತೆ', 'ಅತ್ಯುತ್ತಮ', 'ಬಡ್ಡಿದರ', 'ವಾಟ್ಸ್\\u200bಆ್ಯಪ್\\u200b', 'ಮೇಲೆ', 'ನಿಗಾವಹಿಸಲಿದೆ', 'ಪೊಲೀಸ್', 'ಇಲಾಖೆ..', '!', '5', 'ಸ್ಟಾರ್\\u200b', 'ಗಿಟ್ಟಿಸಿಕೊಂಡ', 'ಹೊಂಡಾ', 'CR-V', ':', 'ಯಾಕೆ', 'ಗೊತ್ತಾ..', '?', 'ATM', 'ನಲ್ಲಿ', 'ಹಣ', 'ಸಿಲುಕಿದ್ರೆ', 'ಹಿಂಪಡೆಯುವುದು', 'ಈಗ', 'ಮತ್ತಷ್ಟು', 'ಸುಲಭ', 'ಸ್ಪೇನ್', 'ದೇಶದ', 'ಪೋಷಕರು', 'ತಮ್ಮ', 'ಮಕ್ಕಳ', 'ವಾಟ್ಸಾಪ್', 'ಸಂದೇಶಗಳನ್ನ', 'ಓದಬಹುದು', ':', 'ಸ್ಪ್ಯಾನಿಷ್', 'ಕೋರ್ಟ್', 'ಮಹತ್ವದ', 'ತೀರ್ಪು', 'ನಿಮ್ಮ', 'ನೆರೆಮನೆಯವರ', 'ಬಗ್ಗೆಯೂ', 'ಮಾಹಿತಿ', 'ನೀಡುತ್ತೆ', 'ಗೂಗಲ್', ',', 'ಲಾಂಚ್', 'ಆಯ್ತು', 'ಈ', 'ಆ್ಯಪ್', '!', 'ಟ್ರಾಫಿಕ್', 'ಸಮಸ್ಯೆಗೆ', 'ಪರಿಹಾರ', ':', 'ಉಬರ್\\u200bನಿಂದ', 'ಹಾರುವ', 'ಟ್ಯಾಕ್ಸಿ', 'ಸೇವೆ', 'ಮೋಟೊ', 'ಒನ್\\u200b', 'ಪವರ್\\u200b', 'ಚಿತ್ರಗಳು', 'ಲೀಕ್\\u200b', ',', 'ಇಲ್ಲಿದೆ', 'ಹೊಸ', 'ಮೊಬೈಲ್', 'ಕುರಿತು\\u200b', 'ಮಾಹಿತಿ', 'ಸೈಬರ್\\u200b\\u200b', 'ಕ್ರೈಮ್\\u200b\\u200b', ':', '50', 'ಮಿಲಿಯನ್\\u200b\\u200b\\u200bಗೂ', 'ಹೆಚ್ಚು', 'ಖಾತೆಗಳು', 'ಹ್ಯಾಕ್\\u200b\\u200b', ';', 'ಫೇಸ್ಬುಕ್\\u200b\\u200b\\u200b\\u200b\\u200b', 'ಸಂಸ್ಥೆಯಿಂದ', 'ಅಧಿಕೃತ', 'ಮಾಹಿತಿ', '!', 'ನಿಮ್ಮ', 'ಮೊಬೈಲ್\\u200b', 'ಮೂರನೇ', 'ಮಹಡಿಯಿಂದ', 'ಬಿದ್ದರು', 'ಏನು', 'ಆಗಲ್ಲ..', '!']\n",
      "\n",
      "\n"
     ]
    }
   ],
   "source": [
    "lines =[]\n",
    "for i in Summarizesummarized_data:\n",
    "    lines.append(i)\n",
    "    lines.append(\"\\n\")   \n",
    "refer_file = open(\"OurRef.txt\",\"r\", encoding='utf-8')\n",
    "refer_data= refer_file.read()\n",
    "\n",
    "\n",
    "\n",
    "output_file = open(\"OurOutput.txt\", \"w+\", encoding='utf-8')\n",
    "output_file1=output_file.writelines(i for i in lines)\n",
    "output_file.close()\n",
    "output_file5 = open(\"OurOutput.txt\", \"r\", encoding='utf-8')\n",
    "out_data =  output_file5.read()\n",
    "\n",
    "\n",
    "\n",
    "\n",
    "total_words_system = nltk.word_tokenize(out_data)\n",
    "\n",
    "total_words_reference = nltk.word_tokenize(refer_data)\n",
    "\n",
    "\n",
    "print(\"total_words_system\\n\",total_words_system)\n",
    "print(\"\\n\")\n"
   ]
  },
  {
   "cell_type": "code",
   "execution_count": 27,
   "metadata": {
    "scrolled": true
   },
   "outputs": [
    {
     "name": "stdout",
     "output_type": "stream",
     "text": [
      "total_words_reference\n",
      " ['ಕನ್ನಡದಲ್ಲೂ', 'ಇನ್ಮುಂದೆ', 'ಸುಲಭವಾಗಿ', 'ಚಾಟ್\\u200b', 'ಮಾಡಬಹುದು', 'ಇನ್\\u200cಸ್ಟಾಗ್ರಾಮ್\\u200cನಲ್ಲಿ', 'ಅಪಹಾಸ್ಯ', 'ವೀಡಿಯೊ', 'ಹಾಕಿ', 'ಜೈಲು', 'ಸೇರಿದ', 'ಯುವಕ', 'ಜಗತ್ತಿಗೆ', 'ಬರುತ್ತಿದ್ದಾನೆ', 'ಮತ್ತೊಬ್ಬ', 'ಹೊಸ', 'ದೇವರು..', 'ನಿಂತಲ್ಲೇ', 'ಸಿಗುತ್ತೆ', 'ವರ..', '!', 'ಏರ್\\u200bಟೆಲ್\\u200b', 'ದೀಪಾವಳಿ', 'ಧಮಾಕಾ', ':', '90', 'ದಿನಗಳವರೆಗೆ', 'ಅನಿಯಮಿತ', 'ಕರೆ', 'ಮತ್ತು', 'ಉಚಿತ', 'ಡೇಟಾ', 'ಪಡೆಯಿರಿ..', '!', 'ಐಡಿಯಾ', 'ನೀಡಲಿದೆ', '30', 'ಜಿಬಿ', 'ಇಂಟರ್\\u200bನೆಟ್\\u200bಮಾರುಕಟ್ಟೆಗೆ', 'ಅಪ್ಪಳಿಸಲಿದೆ', 'ಮರ್ಸಿಡಸ್', 'ಎಸ್', 'ಶ್ರೇಣಿಯ', 'ಹೊಸ', 'ಕಾರ್', 'ಕೇವಲ', '9', 'ರೂಪಾಯಿಗಳಿಗೆ', 'ಅನಿಯಮಿತ', 'ಕರೆ', ',', 'SMS', 'ಕೂಡಾ', 'ಫ್ರೀ', 'ಆ್ಯಪಲ್', 'ಹೊಸ', 'ಇತಿಹಾಸ', '–', 'ಒಂದು', 'ಟ್ರಿಲಿಯನ್', 'ಡಾಲರ್', 'ಮುಟ್ಟಿದ', 'ವಿಶ್ವದ', 'ಮೊದಲ', 'ಕಂಪನಿ', 'ಒಂದುಗೂಡಿವೆ', 'ಜಿಯೋ', 'ಮ್ಯೂಸಿಕ್', '-', 'ಸಾವನ್', ':', 'ಕಲಾವಿದರಿಗಾಗಿ', 'ದಕ್ಷಿಣ', 'ಏಷ್ಯಾದಲ್ಲೇ', 'ಅತಿದೊಡ್ಡ', 'ವೇದಿಕೆ', 'ಸೃಷ್ಟಿ', 'ಹೂಡಿಕೆ', 'ಮಾಡಿದರೂ', 'ಸಿಗುತ್ತೆ', 'ಅತ್ಯುತ್ತಮ', 'ಬಡ್ಡಿದರ', 'ವಾಟ್ಸ್\\u200bಆ್ಯಪ್\\u200b', 'ಮೇಲೆ', 'ನಿಗಾವಹಿಸಲಿದೆ', 'ಪೊಲೀಸ್', 'ಇಲಾಖೆ..', '!', '5', 'ಸ್ಟಾರ್\\u200b', 'ಗಿಟ್ಟಿಸಿಕೊಂಡ', 'ಹೊಂಡಾ', 'CR-V', ':', 'ಯಾಕೆ', 'ಗೊತ್ತಾ..', '?', 'ಮೋಟೊ', 'ಒನ್\\u200b', 'ಪವರ್\\u200b', 'ಚಿತ್ರಗಳು', 'ಲೀಕ್\\u200b', ',', 'ಇಲ್ಲಿದೆ', 'ಹೊಸ', 'ಮೊಬೈಲ್', 'ಕುರಿತು\\u200b', 'ಮಾಹಿತಿ', 'ಸೈಬರ್\\u200b\\u200b', 'ಕ್ರೈಮ್\\u200b\\u200b', ':', '50', 'ಮಿಲಿಯನ್\\u200b\\u200b\\u200bಗೂ', 'ಹೆಚ್ಚು', 'ಖಾತೆಗಳು', 'ಹ್ಯಾಕ್\\u200b\\u200b', ';', 'ಫೇಸ್ಬುಕ್\\u200b\\u200b\\u200b\\u200b\\u200b', 'ಸಂಸ್ಥೆಯಿಂದ', 'ಅಧಿಕೃತ', 'ಮಾಹಿತಿ', '!', 'ನಿಮ್ಮ', 'ಮೊಬೈಲ್\\u200b', 'ಮೂರನೇ', 'ಮಹಡಿಯಿಂದ', 'ಬಿದ್ದರು', 'ಏನು', 'ಆಗಲ್ಲ..', '!', 'ಸ್ಯಾಮ್\\u200bಸಂಗ್', 'ಕಂಪೆನಿ', 'ಕಾರ್ಮಿಕರಿಗೆ', 'ಕ್ಯಾನ್ಸರ್..', '!', 'ರೋಗ', 'ಪೀಡಿತರಿಗೆ', '95', 'ಲಕ್ಷ', 'ರೂ', '.', 'ಭರ್ಜರಿ', 'ಆಫರ್', ':', '13', 'ಸಾವಿರ', 'ಬೆಲೆಯ', 'ಸ್ಮಾರ್ಟ್\\u200bಫೋನ್\\u200bಗೆ', 'ಕೇವಲ', '999', 'ರೂ', '.']\n"
     ]
    }
   ],
   "source": [
    "print(\"total_words_reference\\n\",total_words_reference)"
   ]
  },
  {
   "cell_type": "code",
   "execution_count": 28,
   "metadata": {},
   "outputs": [
    {
     "name": "stdout",
     "output_type": "stream",
     "text": [
      "output length: 20\n",
      "input length: 53\n",
      "Number of words in system 218\n",
      "number of words in reference 152\n"
     ]
    },
    {
     "data": {
      "text/plain": [
       "[{'rouge-1': {'f': 0.707920787079208,\n",
       "   'p': 0.7079207920792079,\n",
       "   'r': 0.7079207920792079},\n",
       "  'rouge-2': {'f': 0.5671641741044776,\n",
       "   'p': 0.5671641791044776,\n",
       "   'r': 0.5671641791044776},\n",
       "  'rouge-l': {'f': 0.7115902914962839,\n",
       "   'p': 0.7058823529411765,\n",
       "   'r': 0.717391304347826}}]"
      ]
     },
     "execution_count": 28,
     "metadata": {},
     "output_type": "execute_result"
    }
   ],
   "source": [
    "print(\"output length:\",len(Summarizesummarized_data))\n",
    "print(\"input length:\",len(sentences))\n",
    "\n",
    "print(\"Number of words in system\",len(total_words_system))\n",
    "print(\"number of words in reference\",len(total_words_reference))\n",
    "# Load summary results\n",
    "hypotheses = str(Summarizesummarized_data)\n",
    "\n",
    "\n",
    "references =str(out_data)\n",
    "\n",
    "\n",
    "rouge = Rouge()\n",
    "rouge_score= rouge.get_scores(hypotheses, references)\n",
    "rouge_score"
   ]
  },
  {
   "cell_type": "code",
   "execution_count": null,
   "metadata": {},
   "outputs": [],
   "source": []
  },
  {
   "cell_type": "code",
   "execution_count": 29,
   "metadata": {},
   "outputs": [
    {
     "name": "stdout",
     "output_type": "stream",
     "text": [
      "0.5861188278226949\n"
     ]
    }
   ],
   "source": [
    "print(\n",
    "(\n",
    "0.6430653396902655\n",
    "\n",
    "+0.47971827111760046\n",
    "\n",
    "+0.6355728726602188\n",
    "\n",
    "\n",
    "\n",
    "\n",
    ")/3\n",
    ")"
   ]
  },
  {
   "cell_type": "code",
   "execution_count": null,
   "metadata": {},
   "outputs": [],
   "source": []
  },
  {
   "cell_type": "code",
   "execution_count": null,
   "metadata": {},
   "outputs": [],
   "source": []
  },
  {
   "cell_type": "code",
   "execution_count": null,
   "metadata": {},
   "outputs": [],
   "source": []
  },
  {
   "cell_type": "code",
   "execution_count": null,
   "metadata": {},
   "outputs": [],
   "source": []
  }
 ],
 "metadata": {
  "kernelspec": {
   "display_name": "Python 3",
   "language": "python",
   "name": "python3"
  },
  "language_info": {
   "codemirror_mode": {
    "name": "ipython",
    "version": 3
   },
   "file_extension": ".py",
   "mimetype": "text/x-python",
   "name": "python",
   "nbconvert_exporter": "python",
   "pygments_lexer": "ipython3",
   "version": "3.6.5"
  }
 },
 "nbformat": 4,
 "nbformat_minor": 2
}
